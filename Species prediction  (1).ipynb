{
 "cells": [
  {
   "cell_type": "markdown",
   "id": "58f7f11f",
   "metadata": {},
   "source": [
    "# Fish Species classifier\n"
   ]
  },
  {
   "cell_type": "markdown",
   "id": "9aea4698",
   "metadata": {},
   "source": [
    "### By Endework Abera"
   ]
  },
  {
   "cell_type": "code",
   "execution_count": 33,
   "id": "4ea8cddd",
   "metadata": {},
   "outputs": [],
   "source": [
    "##This project is going to predict the species of a fish with the provided features (weight, lenght, height, and width)"
   ]
  },
  {
   "cell_type": "markdown",
   "id": "244a2bd4",
   "metadata": {},
   "source": [
    "### Reading data"
   ]
  },
  {
   "cell_type": "code",
   "execution_count": 1,
   "id": "141ddf35",
   "metadata": {},
   "outputs": [
    {
     "data": {
      "text/html": [
       "<div>\n",
       "<style scoped>\n",
       "    .dataframe tbody tr th:only-of-type {\n",
       "        vertical-align: middle;\n",
       "    }\n",
       "\n",
       "    .dataframe tbody tr th {\n",
       "        vertical-align: top;\n",
       "    }\n",
       "\n",
       "    .dataframe thead th {\n",
       "        text-align: right;\n",
       "    }\n",
       "</style>\n",
       "<table border=\"1\" class=\"dataframe\">\n",
       "  <thead>\n",
       "    <tr style=\"text-align: right;\">\n",
       "      <th></th>\n",
       "      <th>Species</th>\n",
       "      <th>Weight</th>\n",
       "      <th>Length1</th>\n",
       "      <th>Length2</th>\n",
       "      <th>Length3</th>\n",
       "      <th>Height</th>\n",
       "      <th>Width</th>\n",
       "    </tr>\n",
       "  </thead>\n",
       "  <tbody>\n",
       "    <tr>\n",
       "      <th>14</th>\n",
       "      <td>Bream</td>\n",
       "      <td>600.0</td>\n",
       "      <td>29.4</td>\n",
       "      <td>32.0</td>\n",
       "      <td>37.2</td>\n",
       "      <td>14.9544</td>\n",
       "      <td>5.1708</td>\n",
       "    </tr>\n",
       "    <tr>\n",
       "      <th>2</th>\n",
       "      <td>Bream</td>\n",
       "      <td>340.0</td>\n",
       "      <td>23.9</td>\n",
       "      <td>26.5</td>\n",
       "      <td>31.1</td>\n",
       "      <td>12.3778</td>\n",
       "      <td>4.6961</td>\n",
       "    </tr>\n",
       "    <tr>\n",
       "      <th>7</th>\n",
       "      <td>Bream</td>\n",
       "      <td>390.0</td>\n",
       "      <td>27.6</td>\n",
       "      <td>30.0</td>\n",
       "      <td>35.0</td>\n",
       "      <td>12.6700</td>\n",
       "      <td>4.6900</td>\n",
       "    </tr>\n",
       "    <tr>\n",
       "      <th>145</th>\n",
       "      <td>Smelt</td>\n",
       "      <td>6.7</td>\n",
       "      <td>9.3</td>\n",
       "      <td>9.8</td>\n",
       "      <td>10.8</td>\n",
       "      <td>1.7388</td>\n",
       "      <td>1.0476</td>\n",
       "    </tr>\n",
       "    <tr>\n",
       "      <th>104</th>\n",
       "      <td>Perch</td>\n",
       "      <td>265.0</td>\n",
       "      <td>25.4</td>\n",
       "      <td>27.5</td>\n",
       "      <td>28.9</td>\n",
       "      <td>7.0516</td>\n",
       "      <td>4.3350</td>\n",
       "    </tr>\n",
       "    <tr>\n",
       "      <th>127</th>\n",
       "      <td>Perch</td>\n",
       "      <td>1000.0</td>\n",
       "      <td>41.1</td>\n",
       "      <td>44.0</td>\n",
       "      <td>46.6</td>\n",
       "      <td>12.4888</td>\n",
       "      <td>7.5958</td>\n",
       "    </tr>\n",
       "    <tr>\n",
       "      <th>4</th>\n",
       "      <td>Bream</td>\n",
       "      <td>430.0</td>\n",
       "      <td>26.5</td>\n",
       "      <td>29.0</td>\n",
       "      <td>34.0</td>\n",
       "      <td>12.4440</td>\n",
       "      <td>5.1340</td>\n",
       "    </tr>\n",
       "    <tr>\n",
       "      <th>118</th>\n",
       "      <td>Perch</td>\n",
       "      <td>820.0</td>\n",
       "      <td>36.6</td>\n",
       "      <td>39.0</td>\n",
       "      <td>41.3</td>\n",
       "      <td>12.4313</td>\n",
       "      <td>7.3514</td>\n",
       "    </tr>\n",
       "    <tr>\n",
       "      <th>70</th>\n",
       "      <td>Parkki</td>\n",
       "      <td>273.0</td>\n",
       "      <td>23.0</td>\n",
       "      <td>25.0</td>\n",
       "      <td>28.0</td>\n",
       "      <td>11.0880</td>\n",
       "      <td>4.1440</td>\n",
       "    </tr>\n",
       "    <tr>\n",
       "      <th>52</th>\n",
       "      <td>Roach</td>\n",
       "      <td>290.0</td>\n",
       "      <td>24.0</td>\n",
       "      <td>26.0</td>\n",
       "      <td>29.2</td>\n",
       "      <td>8.8768</td>\n",
       "      <td>4.4968</td>\n",
       "    </tr>\n",
       "  </tbody>\n",
       "</table>\n",
       "</div>"
      ],
      "text/plain": [
       "    Species  Weight  Length1  Length2  Length3   Height   Width\n",
       "14    Bream   600.0     29.4     32.0     37.2  14.9544  5.1708\n",
       "2     Bream   340.0     23.9     26.5     31.1  12.3778  4.6961\n",
       "7     Bream   390.0     27.6     30.0     35.0  12.6700  4.6900\n",
       "145   Smelt     6.7      9.3      9.8     10.8   1.7388  1.0476\n",
       "104   Perch   265.0     25.4     27.5     28.9   7.0516  4.3350\n",
       "127   Perch  1000.0     41.1     44.0     46.6  12.4888  7.5958\n",
       "4     Bream   430.0     26.5     29.0     34.0  12.4440  5.1340\n",
       "118   Perch   820.0     36.6     39.0     41.3  12.4313  7.3514\n",
       "70   Parkki   273.0     23.0     25.0     28.0  11.0880  4.1440\n",
       "52    Roach   290.0     24.0     26.0     29.2   8.8768  4.4968"
      ]
     },
     "execution_count": 1,
     "metadata": {},
     "output_type": "execute_result"
    }
   ],
   "source": [
    "import pandas as pd\n",
    "\n",
    "# load the training dataset\n",
    "\n",
    "fish = pd.read_csv('Fish.csv')\n",
    "\n",
    "# Display a random sample of 10 observations\n",
    "sample = fish.sample(10)\n",
    "sample"
   ]
  },
  {
   "cell_type": "code",
   "execution_count": 4,
   "id": "af70bd20",
   "metadata": {},
   "outputs": [
    {
     "name": "stdout",
     "output_type": "stream",
     "text": [
      "['Species' 'Weight' 'Length1' 'Length2' 'Length3'] SpeciesName\n",
      "[ Perch 685.0 34.0 36.5 39.0 10.881 6.864 6 ] whitefish\n",
      "[ Bream 500.0 26.8 29.7 34.5 14.1795 5.2785 5 ] smelt\n",
      "[ Whitefish 270.0 23.6 26.0 28.7 8.3804 4.2476 4 ] roach\n",
      "[ Bream 700.0 30.4 33.0 38.5 14.938 5.1975 5 ] smelt\n",
      "[ Bream 290.0 24.0 26.3 31.2 12.48 4.3056 4 ] roach\n",
      "[ Perch 820.0 37.1 40.0 42.5 11.135 6.63 6 ] whitefish\n",
      "[ Perch 70.0 15.7 17.4 18.5 4.588 2.9415 2 ] pearch\n",
      "[ Perch 5.9 7.5 8.4 8.8 2.112 1.408 1 ] parkki\n",
      "[ Pike 500.0 42.0 45.0 48.0 6.96 4.896 4 ] roach\n",
      "[ Roach 40.0 12.9 14.1 16.2 4.1472 2.268 2 ] pearch\n"
     ]
    }
   ],
   "source": [
    "fish_classes = ['bream', 'parkki', 'pearch', 'pike','roach','smelt','whitefish']\n",
    "print(sample.columns[0:5].values, 'SpeciesName')\n",
    "for index, row in fish.sample(10).iterrows():\n",
    "    print('[',row[0], row[1], row[2], row[3], row[4],row[5],row[6], int(row[6]),']',fish_classes[int(row[6])])"
   ]
  },
  {
   "cell_type": "markdown",
   "id": "a9dbc161",
   "metadata": {},
   "source": [
    "### Data cleaning"
   ]
  },
  {
   "cell_type": "code",
   "execution_count": 5,
   "id": "4a8b6d48",
   "metadata": {},
   "outputs": [
    {
     "data": {
      "text/plain": [
       "Species    0\n",
       "Weight     0\n",
       "Length1    0\n",
       "Length2    0\n",
       "Length3    0\n",
       "Height     0\n",
       "Width      0\n",
       "dtype: int64"
      ]
     },
     "execution_count": 5,
     "metadata": {},
     "output_type": "execute_result"
    }
   ],
   "source": [
    "# Count the number of null values for each column\n",
    "fish.isnull().sum()"
   ]
  },
  {
   "cell_type": "markdown",
   "id": "e81847cd",
   "metadata": {},
   "source": [
    "### Visualization"
   ]
  },
  {
   "cell_type": "code",
   "execution_count": 9,
   "id": "d0ecf9cb",
   "metadata": {},
   "outputs": [
    {
     "data": {
      "image/png": "[encoded data removed]",
      "text/plain": [
       "<Figure size 432x432 with 1 Axes>"
      ]
     },
     "metadata": {
      "needs_background": "light"
     },
     "output_type": "display_data"
    },
    {
     "data": {
      "image/png": "[encoded data removed]",
      "text/plain": [
       "<Figure size 432x432 with 1 Axes>"
      ]
     },
     "metadata": {
      "needs_background": "light"
     },
     "output_type": "display_data"
    },
    {
     "data": {
      "image/png": "[encoded data removed]",
      "text/plain": [
       "<Figure size 432x432 with 1 Axes>"
      ]
     },
     "metadata": {
      "needs_background": "light"
     },
     "output_type": "display_data"
    },
    {
     "data": {
      "image/png": "[encoded data removed]",
      "text/plain": [
       "<Figure size 432x432 with 1 Axes>"
      ]
     },
     "metadata": {
      "needs_background": "light"
     },
     "output_type": "display_data"
    },
    {
     "data": {
      "image/png": "[encoded data removed]",
      "text/plain": [
       "<Figure size 432x432 with 1 Axes>"
      ]
     },
     "metadata": {
      "needs_background": "light"
     },
     "output_type": "display_data"
    },
    {
     "data": {
      "image/png": "[encoded data removed]",
      "text/plain": [
       "<Figure size 432x432 with 1 Axes>"
      ]
     },
     "metadata": {
      "needs_background": "light"
     },
     "output_type": "display_data"
    }
   ],
   "source": [
    "from matplotlib import pyplot as plt\n",
    "%matplotlib inline\n",
    "\n",
    "fish_features = ['Weight','Length1','Length2','Length3','Height','Width']\n",
    "fish_label = 'Species'\n",
    "for col in fish_features:\n",
    "    fish.boxplot(column=col, by=penguin_label, figsize=(6,6))\n",
    "    plt.title(col)\n",
    "plt.show()"
   ]
  },
  {
   "cell_type": "code",
   "execution_count": 34,
   "id": "c7df3097",
   "metadata": {},
   "outputs": [],
   "source": [
    "## train and test data separation"
   ]
  },
  {
   "cell_type": "code",
   "execution_count": 10,
   "id": "b1ca05a3",
   "metadata": {},
   "outputs": [
    {
     "name": "stdout",
     "output_type": "stream",
     "text": [
      "Training Set: 111, Test Set: 48 \n",
      "\n"
     ]
    }
   ],
   "source": [
    "from sklearn.model_selection import train_test_split\n",
    "\n",
    "# Separate features and labels\n",
    "fish_x, fish_y = fish[fish_features].values, fish[fish_label].values\n",
    "\n",
    "# Split data 70%-30% into training set and test set\n",
    "x_fish_train, x_fish_test, y_fish_train, y_fish_test = train_test_split(fish_x, fish_y,\n",
    "                                                                                    test_size=0.30,\n",
    "                                                                                    random_state=0,\n",
    "                                                                                    stratify=fish_y)\n",
    "\n",
    "print ('Training Set: %d, Test Set: %d \\n' % (x_fish_train.shape[0], x_fish_test.shape[0]))"
   ]
  },
  {
   "cell_type": "code",
   "execution_count": null,
   "id": "21e390a8",
   "metadata": {},
   "outputs": [],
   "source": [
    "## testing the data with the LogisiticRegression model"
   ]
  },
  {
   "cell_type": "code",
   "execution_count": 11,
   "id": "b0ff45d7",
   "metadata": {},
   "outputs": [
    {
     "name": "stdout",
     "output_type": "stream",
     "text": [
      "LogisticRegression(C=10.0, max_iter=10000)\n"
     ]
    },
    {
     "name": "stderr",
     "output_type": "stream",
     "text": [
      "C:\\Users\\ende\\anaconda3\\lib\\site-packages\\sklearn\\linear_model\\_logistic.py:763: ConvergenceWarning: lbfgs failed to converge (status=1):\n",
      "STOP: TOTAL NO. of ITERATIONS REACHED LIMIT.\n",
      "\n",
      "Increase the number of iterations (max_iter) or scale the data as shown in:\n",
      "    https://scikit-learn.org/stable/modules/preprocessing.html\n",
      "Please also refer to the documentation for alternative solver options:\n",
      "    https://scikit-learn.org/stable/modules/linear_model.html#logistic-regression\n",
      "  n_iter_i = _check_optimize_result(\n"
     ]
    }
   ],
   "source": [
    "from sklearn.linear_model import LogisticRegression\n",
    "\n",
    "# Set regularization rate\n",
    "reg = 0.1\n",
    "\n",
    "# train a logistic regression model on the training set\n",
    "multi_model = LogisticRegression(C=1/reg, solver='lbfgs', multi_class='auto', max_iter=10000).fit(x_fish_train, y_fish_train)\n",
    "print (multi_model)"
   ]
  },
  {
   "cell_type": "code",
   "execution_count": 13,
   "id": "21e4292f",
   "metadata": {},
   "outputs": [
    {
     "name": "stdout",
     "output_type": "stream",
     "text": [
      "Predicted labels:  ['Perch' 'Smelt' 'Bream' 'Pike' 'Perch' 'Smelt' 'Bream' 'Bream' 'Bream'\n",
      " 'Bream' 'Whitefish' 'Roach' 'Perch' 'Pike' 'Perch']\n",
      "Actual labels   :  ['Perch' 'Smelt' 'Bream' 'Pike' 'Perch' 'Smelt' 'Bream' 'Bream' 'Bream'\n",
      " 'Bream' 'Whitefish' 'Roach' 'Perch' 'Pike' 'Perch']\n"
     ]
    }
   ],
   "source": [
    "fish_predictions = multi_model.predict(x_fish_test)\n",
    "print('Predicted labels: ', fish_predictions[:15])\n",
    "print('Actual labels   : ' ,y_fish_test[:15])"
   ]
  },
  {
   "cell_type": "code",
   "execution_count": 14,
   "id": "d29f85da",
   "metadata": {},
   "outputs": [
    {
     "name": "stdout",
     "output_type": "stream",
     "text": [
      "              precision    recall  f1-score   support\n",
      "\n",
      "       Bream       1.00      1.00      1.00        11\n",
      "      Parkki       1.00      1.00      1.00         3\n",
      "       Perch       0.94      0.94      0.94        17\n",
      "        Pike       1.00      1.00      1.00         5\n",
      "       Roach       1.00      0.50      0.67         6\n",
      "       Smelt       0.75      0.75      0.75         4\n",
      "   Whitefish       0.40      1.00      0.57         2\n",
      "\n",
      "    accuracy                           0.90        48\n",
      "   macro avg       0.87      0.88      0.85        48\n",
      "weighted avg       0.93      0.90      0.90        48\n",
      "\n"
     ]
    }
   ],
   "source": [
    "from sklearn. metrics import classification_report\n",
    "\n",
    "print(classification_report(y_fish_test, fish_predictions))"
   ]
  },
  {
   "cell_type": "code",
   "execution_count": 15,
   "id": "517f043f",
   "metadata": {},
   "outputs": [
    {
     "name": "stdout",
     "output_type": "stream",
     "text": [
      "Overall Accuracy: 0.8958333333333334\n",
      "Overall Precision: 0.8701680672268909\n",
      "Overall Recall: 0.8844537815126051\n"
     ]
    }
   ],
   "source": [
    "from sklearn.metrics import accuracy_score, precision_score, recall_score\n",
    "\n",
    "print(\"Overall Accuracy:\",accuracy_score(y_fish_test, fish_predictions))\n",
    "print(\"Overall Precision:\",precision_score(y_fish_test, fish_predictions, average='macro'))\n",
    "print(\"Overall Recall:\",recall_score(y_fish_test, fish_predictions, average='macro'))"
   ]
  },
  {
   "cell_type": "code",
   "execution_count": 17,
   "id": "00d92b7e",
   "metadata": {},
   "outputs": [
    {
     "name": "stdout",
     "output_type": "stream",
     "text": [
      "[[11  0  0  0  0  0  0]\n",
      " [ 0  3  0  0  0  0  0]\n",
      " [ 0  0 16  0  0  1  0]\n",
      " [ 0  0  0  5  0  0  0]\n",
      " [ 0  0  0  0  3  0  3]\n",
      " [ 0  0  1  0  0  3  0]\n",
      " [ 0  0  0  0  0  0  2]]\n"
     ]
    }
   ],
   "source": [
    "from sklearn.metrics import confusion_matrix\n",
    "\n",
    "# Print the confusion matrix\n",
    "mcm = confusion_matrix(y_fish_test, fish_predictions)\n",
    "print(mcm)"
   ]
  },
  {
   "cell_type": "code",
   "execution_count": 19,
   "id": "383fa8bf",
   "metadata": {},
   "outputs": [
    {
     "data": {
      "image/png": "[encoded data removed]",
      "text/plain": [
       "<Figure size 432x288 with 2 Axes>"
      ]
     },
     "metadata": {
      "needs_background": "light"
     },
     "output_type": "display_data"
    }
   ],
   "source": [
    "import numpy as np\n",
    "import matplotlib.pyplot as plt\n",
    "%matplotlib inline\n",
    "\n",
    "plt.imshow(mcm, interpolation=\"nearest\", cmap=plt.cm.Blues)\n",
    "plt.colorbar()\n",
    "tick_marks = np.arange(len(fish_classes))\n",
    "plt.xticks(tick_marks, fish_classes, rotation=45)\n",
    "plt.yticks(tick_marks, fish_classes)\n",
    "plt.xlabel(\"Predicted Species\")\n",
    "plt.ylabel(\"Actual Species\")\n",
    "plt.show()"
   ]
  },
  {
   "cell_type": "code",
   "execution_count": 22,
   "id": "13c26d57",
   "metadata": {},
   "outputs": [
    {
     "name": "stdout",
     "output_type": "stream",
     "text": [
      "Average AUC: 0.975606545903669\n"
     ]
    }
   ],
   "source": [
    "auc = roc_auc_score(y_fish_test,fish_prob, multi_class='ovr')\n",
    "print('Average AUC:', auc)"
   ]
  },
  {
   "cell_type": "code",
   "execution_count": 24,
   "id": "0cbf0d17",
   "metadata": {},
   "outputs": [
    {
     "data": {
      "text/plain": [
       "['./fish_model.pkl']"
      ]
     },
     "execution_count": 24,
     "metadata": {},
     "output_type": "execute_result"
    }
   ],
   "source": [
    "import joblib\n",
    "\n",
    "# Save the model as a pickle file\n",
    "filename = './fish_model.pkl'\n",
    "joblib.dump(multi_model, filename)"
   ]
  },
  {
   "cell_type": "code",
   "execution_count": 32,
   "id": "fa2a4738",
   "metadata": {},
   "outputs": [
    {
     "name": "stdout",
     "output_type": "stream",
     "text": [
      "New sample: [242.    23.2   25.4   30.    11.52   4.02]\n",
      "Predicted class is Bream\n"
     ]
    }
   ],
   "source": [
    "# Load the model from the file\n",
    "multi_model = joblib.load(filename)\n",
    "\n",
    "# The model accepts an array of feature arrays (to predict the classes of multiple fish observations in a single call)\n",
    "# We'll create an array with a single array of features, representing one fish\n",
    "x_new = np.array([[242,23.2,25.4,30,11.52,4.02]])\n",
    "print ('New sample: {}'.format(x_new[0]))\n",
    "\n",
    "# The model returns an array of predictions - one for each set of features submitted\n",
    "# In this case, I have only submitted one penguin, so the  prediction is the first one in the resulting array.\n",
    "fish_pred = multi_model.predict(x_new)[0]\n",
    "print('Predicted class is', fish_pred)"
   ]
  },
  {
   "cell_type": "code",
   "execution_count": null,
   "id": "01b8eee0",
   "metadata": {},
   "outputs": [],
   "source": []
  }
 ],
 "metadata": {
  "kernelspec": {
   "display_name": "Python 3",
   "language": "python",
   "name": "python3"
  },
  "language_info": {
   "codemirror_mode": {
    "name": "ipython",
    "version": 3
   },
   "file_extension": ".py",
   "mimetype": "text/x-python",
   "name": "python",
   "nbconvert_exporter": "python",
   "pygments_lexer": "ipython3",
   "version": "3.8.8"
  }
 },
 "nbformat": 4,
 "nbformat_minor": 5
}
